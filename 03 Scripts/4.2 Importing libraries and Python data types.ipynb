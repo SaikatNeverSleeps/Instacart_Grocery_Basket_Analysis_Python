{
 "cells": [
  {
   "cell_type": "markdown",
   "id": "e0274268",
   "metadata": {},
   "source": [
    "# 01. Importing Libraries"
   ]
  },
  {
   "cell_type": "code",
   "execution_count": 1,
   "id": "fa31dfcb",
   "metadata": {},
   "outputs": [],
   "source": [
    "# Import libraries\n",
    "import pandas as pd\n",
    "import numpy as np\n",
    "import os"
   ]
  },
  {
   "cell_type": "markdown",
   "id": "e341b6e9",
   "metadata": {},
   "source": [
    "# 02. Python data types"
   ]
  },
  {
   "cell_type": "markdown",
   "id": "5b00123f",
   "metadata": {},
   "source": [
    "## 01. Code 3 different ways of reach a result of 100"
   ]
  },
  {
   "cell_type": "code",
   "execution_count": 27,
   "id": "252af401",
   "metadata": {},
   "outputs": [
    {
     "data": {
      "text/plain": [
       "100"
      ]
     },
     "execution_count": 27,
     "metadata": {},
     "output_type": "execute_result"
    }
   ],
   "source": [
    "#1\n",
    "x=50\n",
    "y=50\n",
    "x+y"
   ]
  },
  {
   "cell_type": "code",
   "execution_count": 26,
   "id": "5a145d2a",
   "metadata": {},
   "outputs": [
    {
     "data": {
      "text/plain": [
       "100"
      ]
     },
     "execution_count": 26,
     "metadata": {},
     "output_type": "execute_result"
    }
   ],
   "source": [
    "#2\n",
    "x=150\n",
    "y=50\n",
    "x-y"
   ]
  },
  {
   "cell_type": "code",
   "execution_count": 28,
   "id": "a760901d",
   "metadata": {},
   "outputs": [
    {
     "data": {
      "text/plain": [
       "100"
      ]
     },
     "execution_count": 28,
     "metadata": {},
     "output_type": "execute_result"
    }
   ],
   "source": [
    "#3\n",
    "x=25\n",
    "x*4"
   ]
  },
  {
   "cell_type": "markdown",
   "id": "9cfd26b8",
   "metadata": {},
   "source": [
    "## 02. Code 2 floating-point variables and divide them by each other"
   ]
  },
  {
   "cell_type": "code",
   "execution_count": 30,
   "id": "d30e5430",
   "metadata": {},
   "outputs": [
    {
     "data": {
      "text/plain": [
       "2.411764705882353"
      ]
     },
     "execution_count": 30,
     "metadata": {},
     "output_type": "execute_result"
    }
   ],
   "source": [
    "#Defining the variables\n",
    "x = 10.25\n",
    "y = 4.25\n",
    "#Dividing the variables\n",
    "x/y"
   ]
  },
  {
   "cell_type": "markdown",
   "id": "fb69bf15",
   "metadata": {},
   "source": [
    "## 03. Construct a short word made of separate strings"
   ]
  },
  {
   "cell_type": "code",
   "execution_count": 31,
   "id": "a8c3d5d3",
   "metadata": {},
   "outputs": [
    {
     "data": {
      "text/plain": [
       "'congratulation'"
      ]
     },
     "execution_count": 31,
     "metadata": {},
     "output_type": "execute_result"
    }
   ],
   "source": [
    "a = 'congra'\n",
    "b = 'tulation'\n",
    "a+b"
   ]
  },
  {
   "cell_type": "markdown",
   "id": "ff089005",
   "metadata": {},
   "source": [
    "## 04. Construct 2 short sentences made of separate strings"
   ]
  },
  {
   "cell_type": "code",
   "execution_count": 35,
   "id": "c3d57f49",
   "metadata": {},
   "outputs": [
    {
     "data": {
      "text/plain": [
       "'I need to find a job as a data scientist'"
      ]
     },
     "execution_count": 35,
     "metadata": {},
     "output_type": "execute_result"
    }
   ],
   "source": [
    "# Sentence 1\n",
    "c = 'I need to find a '\n",
    "d = 'job as a data scientist'\n",
    "c+d"
   ]
  },
  {
   "cell_type": "code",
   "execution_count": 36,
   "id": "bb4850e3",
   "metadata": {},
   "outputs": [
    {
     "data": {
      "text/plain": [
       "'I find it hard to juggle between two jobs and find time to study'"
      ]
     },
     "execution_count": 36,
     "metadata": {},
     "output_type": "execute_result"
    }
   ],
   "source": [
    "# Sentence 2\n",
    "e = 'I find it hard to '\n",
    "f = 'juggle between two jobs and find time to study'\n",
    "e+f"
   ]
  },
  {
   "cell_type": "markdown",
   "id": "eabf0018",
   "metadata": {},
   "source": [
    "## 05. Bonus"
   ]
  },
  {
   "cell_type": "code",
   "execution_count": 2,
   "id": "51c5f65b",
   "metadata": {},
   "outputs": [
    {
     "data": {
      "text/plain": [
       "'pythonpythonpythonpythonpythonpythonpythonpythonpythonpythonpythonpythonpythonpythonpythonpythonpythonpythonpythonpythonpythonpythonpythonpythonpythonpythonpythonpythonpythonpythonpythonpythonpythonpythonpythonpythonpythonpythonpythonpythonpythonpythonpythonpythonpythonpythonpythonpythonpythonpythonpythonpythonpythonpythonpythonpythonpythonpythonpythonpythonpythonpythonpythonpythonpythonpythonpythonpythonpythonpythonpythonpythonpythonpythonpythonpythonpythonpythonpythonpythonpythonpythonpythonpythonpythonpythonpythonpythonpythonpythonpythonpythonpythonpythonpythonpythonpythonpythonpythonpython'"
      ]
     },
     "execution_count": 2,
     "metadata": {},
     "output_type": "execute_result"
    }
   ],
   "source": [
    "## Include a command that makes a string appear 100 times\n",
    "t = 'python'\n",
    "t*100"
   ]
  }
 ],
 "metadata": {
  "kernelspec": {
   "display_name": "Python 3 (ipykernel)",
   "language": "python",
   "name": "python3"
  },
  "language_info": {
   "codemirror_mode": {
    "name": "ipython",
    "version": 3
   },
   "file_extension": ".py",
   "mimetype": "text/x-python",
   "name": "python",
   "nbconvert_exporter": "python",
   "pygments_lexer": "ipython3",
   "version": "3.11.5"
  }
 },
 "nbformat": 4,
 "nbformat_minor": 5
}
