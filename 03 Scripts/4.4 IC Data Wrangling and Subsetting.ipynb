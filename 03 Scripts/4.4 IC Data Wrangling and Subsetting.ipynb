{
 "cells": [
  {
   "cell_type": "markdown",
   "id": "c3078127",
   "metadata": {},
   "source": [
    "# Importing Libraries"
   ]
  },
  {
   "cell_type": "code",
   "execution_count": 1,
   "id": "efc68be0",
   "metadata": {
    "tags": []
   },
   "outputs": [],
   "source": [
    "#Import Libraries\n",
    "import pandas as pd\n",
    "import numpy as np\n",
    "import os"
   ]
  },
  {
   "cell_type": "markdown",
   "id": "a3b56ad9",
   "metadata": {},
   "source": [
    "# Importing Dataframes"
   ]
  },
  {
   "cell_type": "code",
   "execution_count": 2,
   "id": "e19c141e",
   "metadata": {
    "tags": []
   },
   "outputs": [],
   "source": [
    "#Setting Variables\n",
    "path_mac = r'/Users/saikathalder/CareerFoundry/Data Immersion/Achievement 4/Instacart Basket Analysis 01182024'\n",
    "path_win = r'C:\\Users\\Saikat Halder\\Documents\\CareerFoundry\\Data Immersion\\Achievement 4\\Instacart Basket Analysis 01182024'\n",
    "#Importing orders\n",
    "df_ords = pd.read_csv(os.path.join(path_mac, '02 Data', 'Original Data', 'orders.csv'), index_col = False)\n",
    "#Importing products\n",
    "df_prods = pd.read_csv(os.path.join(path_mac, '02 Data', 'Original Data', 'products.csv'), index_col = False)\n",
    "#Importing departments\n",
    "df_dep = pd.read_csv(os.path.join(path_mac, '02 Data', 'Original Data', 'departments.csv'), index_col = False)"
   ]
  },
  {
   "cell_type": "markdown",
   "id": "d13111fd",
   "metadata": {},
   "source": [
    "# 1.0 Data Wrangling"
   ]
  },
  {
   "cell_type": "markdown",
   "id": "92001fb1",
   "metadata": {},
   "source": [
    "## Orders"
   ]
  },
  {
   "cell_type": "code",
   "execution_count": 3,
   "id": "4cec48c4",
   "metadata": {},
   "outputs": [
    {
     "data": {
      "text/plain": [
       "3421083"
      ]
     },
     "execution_count": 3,
     "metadata": {},
     "output_type": "execute_result"
    }
   ],
   "source": [
    "# Checking Number of rows\n",
    "df_ords.shape[0]"
   ]
  },
  {
   "cell_type": "code",
   "execution_count": 3,
   "id": "47485cd0",
   "metadata": {
    "tags": []
   },
   "outputs": [],
   "source": [
    "#Dropping eval_set and assinging it to a new datafram = df_ords_2\n",
    "df_ords_2 = df_ords.drop(columns = 'eval_set')"
   ]
  },
  {
   "cell_type": "code",
   "execution_count": 4,
   "id": "ba28096e",
   "metadata": {
    "tags": []
   },
   "outputs": [
    {
     "name": "stdout",
     "output_type": "stream",
     "text": [
      "   order_id  user_id  order_number  order_dow  order_hour_of_day  \\\n",
      "0   2539329        1             1          2                  8   \n",
      "1   2398795        1             2          3                  7   \n",
      "2    473747        1             3          3                 12   \n",
      "3   2254736        1             4          4                  7   \n",
      "4    431534        1             5          4                 15   \n",
      "\n",
      "   days_since_prior_order  \n",
      "0                     NaN  \n",
      "1                    15.0  \n",
      "2                    21.0  \n",
      "3                    29.0  \n",
      "4                    28.0  \n"
     ]
    }
   ],
   "source": [
    "print(df_ords_2.head())"
   ]
  },
  {
   "cell_type": "code",
   "execution_count": 5,
   "id": "1a2bc656",
   "metadata": {
    "tags": []
   },
   "outputs": [],
   "source": [
    "#Renaming order_dow to order_day_of_week\n",
    "df_ords_2.rename(columns = {'order_dow' : 'order_day_of_week'}, inplace = True)"
   ]
  },
  {
   "cell_type": "code",
   "execution_count": 6,
   "id": "64d9e074",
   "metadata": {},
   "outputs": [
    {
     "name": "stdout",
     "output_type": "stream",
     "text": [
      "   order_id  user_id  order_number  order_day_of_week  order_hour_of_day  \\\n",
      "0   2539329        1             1                  2                  8   \n",
      "1   2398795        1             2                  3                  7   \n",
      "2    473747        1             3                  3                 12   \n",
      "3   2254736        1             4                  4                  7   \n",
      "4    431534        1             5                  4                 15   \n",
      "\n",
      "   days_since_prior_order  \n",
      "0                     NaN  \n",
      "1                    15.0  \n",
      "2                    21.0  \n",
      "3                    29.0  \n",
      "4                    28.0  \n"
     ]
    }
   ],
   "source": [
    "print(df_ords_2.head())"
   ]
  },
  {
   "cell_type": "code",
   "execution_count": 7,
   "id": "196d343a",
   "metadata": {
    "tags": []
   },
   "outputs": [],
   "source": [
    "#Changing the 'order_id' data type from integer to strings since we do not need any descriptive analysis on this\n",
    "df_ords_2['order_id'] = df_ords_2['order_id'].astype('str')"
   ]
  },
  {
   "cell_type": "code",
   "execution_count": 8,
   "id": "d0eb59a2",
   "metadata": {
    "tags": []
   },
   "outputs": [
    {
     "name": "stdout",
     "output_type": "stream",
     "text": [
      "object\n"
     ]
    }
   ],
   "source": [
    "print(df_ords_2['order_id'].dtype)"
   ]
  },
  {
   "cell_type": "markdown",
   "id": "09aa065c",
   "metadata": {},
   "source": [
    "## Departments"
   ]
  },
  {
   "cell_type": "code",
   "execution_count": 9,
   "id": "ece20788",
   "metadata": {
    "tags": []
   },
   "outputs": [
    {
     "data": {
      "text/html": [
       "<div>\n",
       "<style scoped>\n",
       "    .dataframe tbody tr th:only-of-type {\n",
       "        vertical-align: middle;\n",
       "    }\n",
       "\n",
       "    .dataframe tbody tr th {\n",
       "        vertical-align: top;\n",
       "    }\n",
       "\n",
       "    .dataframe thead th {\n",
       "        text-align: right;\n",
       "    }\n",
       "</style>\n",
       "<table border=\"1\" class=\"dataframe\">\n",
       "  <thead>\n",
       "    <tr style=\"text-align: right;\">\n",
       "      <th></th>\n",
       "      <th>department_id</th>\n",
       "      <th>1</th>\n",
       "      <th>2</th>\n",
       "      <th>3</th>\n",
       "      <th>4</th>\n",
       "      <th>5</th>\n",
       "      <th>6</th>\n",
       "      <th>7</th>\n",
       "      <th>8</th>\n",
       "      <th>9</th>\n",
       "      <th>...</th>\n",
       "      <th>12</th>\n",
       "      <th>13</th>\n",
       "      <th>14</th>\n",
       "      <th>15</th>\n",
       "      <th>16</th>\n",
       "      <th>17</th>\n",
       "      <th>18</th>\n",
       "      <th>19</th>\n",
       "      <th>20</th>\n",
       "      <th>21</th>\n",
       "    </tr>\n",
       "  </thead>\n",
       "  <tbody>\n",
       "    <tr>\n",
       "      <th>0</th>\n",
       "      <td>department</td>\n",
       "      <td>frozen</td>\n",
       "      <td>other</td>\n",
       "      <td>bakery</td>\n",
       "      <td>produce</td>\n",
       "      <td>alcohol</td>\n",
       "      <td>international</td>\n",
       "      <td>beverages</td>\n",
       "      <td>pets</td>\n",
       "      <td>dry goods pasta</td>\n",
       "      <td>...</td>\n",
       "      <td>meat seafood</td>\n",
       "      <td>pantry</td>\n",
       "      <td>breakfast</td>\n",
       "      <td>canned goods</td>\n",
       "      <td>dairy eggs</td>\n",
       "      <td>household</td>\n",
       "      <td>babies</td>\n",
       "      <td>snacks</td>\n",
       "      <td>deli</td>\n",
       "      <td>missing</td>\n",
       "    </tr>\n",
       "  </tbody>\n",
       "</table>\n",
       "<p>1 rows × 22 columns</p>\n",
       "</div>"
      ],
      "text/plain": [
       "  department_id       1      2       3        4        5              6  \\\n",
       "0    department  frozen  other  bakery  produce  alcohol  international   \n",
       "\n",
       "           7     8                9  ...            12      13         14  \\\n",
       "0  beverages  pets  dry goods pasta  ...  meat seafood  pantry  breakfast   \n",
       "\n",
       "             15          16         17      18      19    20       21  \n",
       "0  canned goods  dairy eggs  household  babies  snacks  deli  missing  \n",
       "\n",
       "[1 rows x 22 columns]"
      ]
     },
     "execution_count": 9,
     "metadata": {},
     "output_type": "execute_result"
    }
   ],
   "source": [
    "df_dep.head()"
   ]
  },
  {
   "cell_type": "code",
   "execution_count": 10,
   "id": "c8c09690",
   "metadata": {},
   "outputs": [],
   "source": [
    "#Transposing df_dept and assigning it to a new Datafram : df_dep_2\n",
    "df_dep_t = df_dep.T"
   ]
  },
  {
   "cell_type": "code",
   "execution_count": 11,
   "id": "eb721fa6",
   "metadata": {},
   "outputs": [
    {
     "data": {
      "text/html": [
       "<div>\n",
       "<style scoped>\n",
       "    .dataframe tbody tr th:only-of-type {\n",
       "        vertical-align: middle;\n",
       "    }\n",
       "\n",
       "    .dataframe tbody tr th {\n",
       "        vertical-align: top;\n",
       "    }\n",
       "\n",
       "    .dataframe thead th {\n",
       "        text-align: right;\n",
       "    }\n",
       "</style>\n",
       "<table border=\"1\" class=\"dataframe\">\n",
       "  <thead>\n",
       "    <tr style=\"text-align: right;\">\n",
       "      <th></th>\n",
       "      <th>0</th>\n",
       "    </tr>\n",
       "  </thead>\n",
       "  <tbody>\n",
       "    <tr>\n",
       "      <th>department_id</th>\n",
       "      <td>department</td>\n",
       "    </tr>\n",
       "    <tr>\n",
       "      <th>1</th>\n",
       "      <td>frozen</td>\n",
       "    </tr>\n",
       "    <tr>\n",
       "      <th>2</th>\n",
       "      <td>other</td>\n",
       "    </tr>\n",
       "    <tr>\n",
       "      <th>3</th>\n",
       "      <td>bakery</td>\n",
       "    </tr>\n",
       "    <tr>\n",
       "      <th>4</th>\n",
       "      <td>produce</td>\n",
       "    </tr>\n",
       "  </tbody>\n",
       "</table>\n",
       "</div>"
      ],
      "text/plain": [
       "                        0\n",
       "department_id  department\n",
       "1                  frozen\n",
       "2                   other\n",
       "3                  bakery\n",
       "4                 produce"
      ]
     },
     "execution_count": 11,
     "metadata": {},
     "output_type": "execute_result"
    }
   ],
   "source": [
    "df_dep_t.head()"
   ]
  },
  {
   "cell_type": "code",
   "execution_count": 12,
   "id": "68e6e48d",
   "metadata": {},
   "outputs": [
    {
     "data": {
      "text/html": [
       "<div>\n",
       "<style scoped>\n",
       "    .dataframe tbody tr th:only-of-type {\n",
       "        vertical-align: middle;\n",
       "    }\n",
       "\n",
       "    .dataframe tbody tr th {\n",
       "        vertical-align: top;\n",
       "    }\n",
       "\n",
       "    .dataframe thead th {\n",
       "        text-align: right;\n",
       "    }\n",
       "</style>\n",
       "<table border=\"1\" class=\"dataframe\">\n",
       "  <thead>\n",
       "    <tr style=\"text-align: right;\">\n",
       "      <th></th>\n",
       "      <th>index</th>\n",
       "      <th>0</th>\n",
       "    </tr>\n",
       "  </thead>\n",
       "  <tbody>\n",
       "    <tr>\n",
       "      <th>0</th>\n",
       "      <td>department_id</td>\n",
       "      <td>department</td>\n",
       "    </tr>\n",
       "    <tr>\n",
       "      <th>1</th>\n",
       "      <td>1</td>\n",
       "      <td>frozen</td>\n",
       "    </tr>\n",
       "    <tr>\n",
       "      <th>2</th>\n",
       "      <td>2</td>\n",
       "      <td>other</td>\n",
       "    </tr>\n",
       "    <tr>\n",
       "      <th>3</th>\n",
       "      <td>3</td>\n",
       "      <td>bakery</td>\n",
       "    </tr>\n",
       "    <tr>\n",
       "      <th>4</th>\n",
       "      <td>4</td>\n",
       "      <td>produce</td>\n",
       "    </tr>\n",
       "    <tr>\n",
       "      <th>5</th>\n",
       "      <td>5</td>\n",
       "      <td>alcohol</td>\n",
       "    </tr>\n",
       "    <tr>\n",
       "      <th>6</th>\n",
       "      <td>6</td>\n",
       "      <td>international</td>\n",
       "    </tr>\n",
       "    <tr>\n",
       "      <th>7</th>\n",
       "      <td>7</td>\n",
       "      <td>beverages</td>\n",
       "    </tr>\n",
       "    <tr>\n",
       "      <th>8</th>\n",
       "      <td>8</td>\n",
       "      <td>pets</td>\n",
       "    </tr>\n",
       "    <tr>\n",
       "      <th>9</th>\n",
       "      <td>9</td>\n",
       "      <td>dry goods pasta</td>\n",
       "    </tr>\n",
       "    <tr>\n",
       "      <th>10</th>\n",
       "      <td>10</td>\n",
       "      <td>bulk</td>\n",
       "    </tr>\n",
       "    <tr>\n",
       "      <th>11</th>\n",
       "      <td>11</td>\n",
       "      <td>personal care</td>\n",
       "    </tr>\n",
       "    <tr>\n",
       "      <th>12</th>\n",
       "      <td>12</td>\n",
       "      <td>meat seafood</td>\n",
       "    </tr>\n",
       "    <tr>\n",
       "      <th>13</th>\n",
       "      <td>13</td>\n",
       "      <td>pantry</td>\n",
       "    </tr>\n",
       "    <tr>\n",
       "      <th>14</th>\n",
       "      <td>14</td>\n",
       "      <td>breakfast</td>\n",
       "    </tr>\n",
       "    <tr>\n",
       "      <th>15</th>\n",
       "      <td>15</td>\n",
       "      <td>canned goods</td>\n",
       "    </tr>\n",
       "    <tr>\n",
       "      <th>16</th>\n",
       "      <td>16</td>\n",
       "      <td>dairy eggs</td>\n",
       "    </tr>\n",
       "    <tr>\n",
       "      <th>17</th>\n",
       "      <td>17</td>\n",
       "      <td>household</td>\n",
       "    </tr>\n",
       "    <tr>\n",
       "      <th>18</th>\n",
       "      <td>18</td>\n",
       "      <td>babies</td>\n",
       "    </tr>\n",
       "    <tr>\n",
       "      <th>19</th>\n",
       "      <td>19</td>\n",
       "      <td>snacks</td>\n",
       "    </tr>\n",
       "    <tr>\n",
       "      <th>20</th>\n",
       "      <td>20</td>\n",
       "      <td>deli</td>\n",
       "    </tr>\n",
       "    <tr>\n",
       "      <th>21</th>\n",
       "      <td>21</td>\n",
       "      <td>missing</td>\n",
       "    </tr>\n",
       "  </tbody>\n",
       "</table>\n",
       "</div>"
      ],
      "text/plain": [
       "            index                0\n",
       "0   department_id       department\n",
       "1               1           frozen\n",
       "2               2            other\n",
       "3               3           bakery\n",
       "4               4          produce\n",
       "5               5          alcohol\n",
       "6               6    international\n",
       "7               7        beverages\n",
       "8               8             pets\n",
       "9               9  dry goods pasta\n",
       "10             10             bulk\n",
       "11             11    personal care\n",
       "12             12     meat seafood\n",
       "13             13           pantry\n",
       "14             14        breakfast\n",
       "15             15     canned goods\n",
       "16             16       dairy eggs\n",
       "17             17        household\n",
       "18             18           babies\n",
       "19             19           snacks\n",
       "20             20             deli\n",
       "21             21          missing"
      ]
     },
     "execution_count": 12,
     "metadata": {},
     "output_type": "execute_result"
    }
   ],
   "source": [
    "#Adding index\n",
    "df_dep_t.reset_index()"
   ]
  },
  {
   "cell_type": "code",
   "execution_count": 13,
   "id": "301d3a62",
   "metadata": {},
   "outputs": [
    {
     "name": "stdout",
     "output_type": "stream",
     "text": [
      "                        0\n",
      "department_id  department\n",
      "1                  frozen\n",
      "2                   other\n",
      "3                  bakery\n",
      "4                 produce\n"
     ]
    }
   ],
   "source": [
    "print(df_dep_t.head())"
   ]
  },
  {
   "cell_type": "code",
   "execution_count": 14,
   "id": "1a30308d",
   "metadata": {},
   "outputs": [],
   "source": [
    "#creating new_header by taking the first row\n",
    "new_header = df_dep_t.iloc[0]"
   ]
  },
  {
   "cell_type": "code",
   "execution_count": 15,
   "id": "2b1ed404",
   "metadata": {},
   "outputs": [
    {
     "name": "stdout",
     "output_type": "stream",
     "text": [
      "0    department\n",
      "Name: department_id, dtype: object\n"
     ]
    }
   ],
   "source": [
    "print(new_header)"
   ]
  },
  {
   "cell_type": "code",
   "execution_count": 16,
   "id": "f48a8e36",
   "metadata": {},
   "outputs": [],
   "source": [
    "#Creating a new Dataframe by taking from row 1 and onwards from df_dept_t\n",
    "df_dep_t_new = df_dep_t[1:]"
   ]
  },
  {
   "cell_type": "code",
   "execution_count": 17,
   "id": "bfe4312f",
   "metadata": {},
   "outputs": [
    {
     "name": "stdout",
     "output_type": "stream",
     "text": [
      "         0\n",
      "1   frozen\n",
      "2    other\n",
      "3   bakery\n",
      "4  produce\n",
      "5  alcohol\n"
     ]
    }
   ],
   "source": [
    "print(df_dep_t_new.head())"
   ]
  },
  {
   "cell_type": "code",
   "execution_count": 18,
   "id": "f42bd08e",
   "metadata": {},
   "outputs": [],
   "source": [
    "#Assigning new_header to df_dep_t_new\n",
    "df_dep_t_new.columns = new_header"
   ]
  },
  {
   "cell_type": "code",
   "execution_count": 19,
   "id": "e68a1209",
   "metadata": {},
   "outputs": [
    {
     "name": "stdout",
     "output_type": "stream",
     "text": [
      "department_id department\n",
      "1                 frozen\n",
      "2                  other\n",
      "3                 bakery\n",
      "4                produce\n",
      "5                alcohol\n"
     ]
    }
   ],
   "source": [
    "print(df_dep_t_new.head())"
   ]
  },
  {
   "cell_type": "code",
   "execution_count": 20,
   "id": "c14c9848",
   "metadata": {},
   "outputs": [],
   "source": [
    "#Creating Data Dictionary\n",
    "data_dict_dep = df_dep_t_new.to_dict('index')"
   ]
  },
  {
   "cell_type": "code",
   "execution_count": 21,
   "id": "33474c51",
   "metadata": {},
   "outputs": [
    {
     "name": "stdout",
     "output_type": "stream",
     "text": [
      "{'1': {'department': 'frozen'}, '2': {'department': 'other'}, '3': {'department': 'bakery'}, '4': {'department': 'produce'}, '5': {'department': 'alcohol'}, '6': {'department': 'international'}, '7': {'department': 'beverages'}, '8': {'department': 'pets'}, '9': {'department': 'dry goods pasta'}, '10': {'department': 'bulk'}, '11': {'department': 'personal care'}, '12': {'department': 'meat seafood'}, '13': {'department': 'pantry'}, '14': {'department': 'breakfast'}, '15': {'department': 'canned goods'}, '16': {'department': 'dairy eggs'}, '17': {'department': 'household'}, '18': {'department': 'babies'}, '19': {'department': 'snacks'}, '20': {'department': 'deli'}, '21': {'department': 'missing'}}\n"
     ]
    }
   ],
   "source": [
    "print(data_dict_dep)"
   ]
  },
  {
   "cell_type": "markdown",
   "id": "c0a75f84",
   "metadata": {},
   "source": [
    "# 2.0 Find another variable in df_ords for which data type needs to be changed"
   ]
  },
  {
   "cell_type": "code",
   "execution_count": 22,
   "id": "e22efa63",
   "metadata": {
    "tags": []
   },
   "outputs": [],
   "source": [
    "#Changing data type for user_id in df_ords_2\n",
    "df_ords_2['user_id'] = df_ords_2['user_id'].astype('str')"
   ]
  },
  {
   "cell_type": "code",
   "execution_count": 23,
   "id": "a5ac4ab3",
   "metadata": {
    "tags": []
   },
   "outputs": [
    {
     "name": "stdout",
     "output_type": "stream",
     "text": [
      "object\n"
     ]
    }
   ],
   "source": [
    "print(df_ords_2['user_id'].dtype)"
   ]
  },
  {
   "cell_type": "code",
   "execution_count": 24,
   "id": "18cb0e2e",
   "metadata": {
    "tags": []
   },
   "outputs": [
    {
     "data": {
      "text/html": [
       "<div>\n",
       "<style scoped>\n",
       "    .dataframe tbody tr th:only-of-type {\n",
       "        vertical-align: middle;\n",
       "    }\n",
       "\n",
       "    .dataframe tbody tr th {\n",
       "        vertical-align: top;\n",
       "    }\n",
       "\n",
       "    .dataframe thead th {\n",
       "        text-align: right;\n",
       "    }\n",
       "</style>\n",
       "<table border=\"1\" class=\"dataframe\">\n",
       "  <thead>\n",
       "    <tr style=\"text-align: right;\">\n",
       "      <th></th>\n",
       "      <th>order_id</th>\n",
       "      <th>user_id</th>\n",
       "      <th>order_number</th>\n",
       "      <th>order_day_of_week</th>\n",
       "      <th>order_hour_of_day</th>\n",
       "      <th>days_since_prior_order</th>\n",
       "    </tr>\n",
       "  </thead>\n",
       "  <tbody>\n",
       "    <tr>\n",
       "      <th>0</th>\n",
       "      <td>2539329</td>\n",
       "      <td>1</td>\n",
       "      <td>1</td>\n",
       "      <td>2</td>\n",
       "      <td>8</td>\n",
       "      <td>NaN</td>\n",
       "    </tr>\n",
       "    <tr>\n",
       "      <th>1</th>\n",
       "      <td>2398795</td>\n",
       "      <td>1</td>\n",
       "      <td>2</td>\n",
       "      <td>3</td>\n",
       "      <td>7</td>\n",
       "      <td>15.0</td>\n",
       "    </tr>\n",
       "    <tr>\n",
       "      <th>2</th>\n",
       "      <td>473747</td>\n",
       "      <td>1</td>\n",
       "      <td>3</td>\n",
       "      <td>3</td>\n",
       "      <td>12</td>\n",
       "      <td>21.0</td>\n",
       "    </tr>\n",
       "    <tr>\n",
       "      <th>3</th>\n",
       "      <td>2254736</td>\n",
       "      <td>1</td>\n",
       "      <td>4</td>\n",
       "      <td>4</td>\n",
       "      <td>7</td>\n",
       "      <td>29.0</td>\n",
       "    </tr>\n",
       "    <tr>\n",
       "      <th>4</th>\n",
       "      <td>431534</td>\n",
       "      <td>1</td>\n",
       "      <td>5</td>\n",
       "      <td>4</td>\n",
       "      <td>15</td>\n",
       "      <td>28.0</td>\n",
       "    </tr>\n",
       "  </tbody>\n",
       "</table>\n",
       "</div>"
      ],
      "text/plain": [
       "  order_id user_id  order_number  order_day_of_week  order_hour_of_day  \\\n",
       "0  2539329       1             1                  2                  8   \n",
       "1  2398795       1             2                  3                  7   \n",
       "2   473747       1             3                  3                 12   \n",
       "3  2254736       1             4                  4                  7   \n",
       "4   431534       1             5                  4                 15   \n",
       "\n",
       "   days_since_prior_order  \n",
       "0                     NaN  \n",
       "1                    15.0  \n",
       "2                    21.0  \n",
       "3                    29.0  \n",
       "4                    28.0  "
      ]
     },
     "execution_count": 24,
     "metadata": {},
     "output_type": "execute_result"
    }
   ],
   "source": [
    "df_ords_2.head()"
   ]
  },
  {
   "cell_type": "markdown",
   "id": "b2527816",
   "metadata": {},
   "source": [
    "# 3.0 Change the column name of unintuitive name from df_ords_2"
   ]
  },
  {
   "cell_type": "code",
   "execution_count": 25,
   "id": "076d12dd",
   "metadata": {
    "tags": []
   },
   "outputs": [],
   "source": [
    "#Renaming order_dow to order_day_of_week--this was already done\n",
    "df_ords_2.rename(columns = {'order_dow' : 'order_day_of_week'}, inplace = True)"
   ]
  },
  {
   "cell_type": "code",
   "execution_count": 26,
   "id": "1a3c6855",
   "metadata": {
    "tags": []
   },
   "outputs": [
    {
     "name": "stdout",
     "output_type": "stream",
     "text": [
      "  order_id user_id  order_number  order_day_of_week  order_hour_of_day  \\\n",
      "0  2539329       1             1                  2                  8   \n",
      "1  2398795       1             2                  3                  7   \n",
      "2   473747       1             3                  3                 12   \n",
      "3  2254736       1             4                  4                  7   \n",
      "4   431534       1             5                  4                 15   \n",
      "\n",
      "   days_since_prior_order  \n",
      "0                     NaN  \n",
      "1                    15.0  \n",
      "2                    21.0  \n",
      "3                    29.0  \n",
      "4                    28.0  \n"
     ]
    }
   ],
   "source": [
    "print(df_ords_2.head())"
   ]
  },
  {
   "cell_type": "markdown",
   "id": "f971e2ce",
   "metadata": {},
   "source": [
    "# 4.0 Busiest hour for placing orders"
   ]
  },
  {
   "cell_type": "code",
   "execution_count": 27,
   "id": "ea80eddc",
   "metadata": {},
   "outputs": [
    {
     "name": "stdout",
     "output_type": "stream",
     "text": [
      "Busiest hour for placing orders is 10 AM\n"
     ]
    }
   ],
   "source": [
    "#Value_count for order_hour_of_day from df_ords_2\n",
    "frequency = df_ords_2['order_hour_of_day'].value_counts(dropna = False) #using value_count to get the frequency\n",
    "busiest_hour = frequency.idxmax()\n",
    "print('Busiest hour for placing orders is' , busiest_hour, 'AM') #using idxmax() to find the index from the frequency table"
   ]
  },
  {
   "cell_type": "markdown",
   "id": "4bb344fb",
   "metadata": {},
   "source": [
    "# 5.0 Meaning behind the value 4 in the 'department_id'"
   ]
  },
  {
   "cell_type": "code",
   "execution_count": 28,
   "id": "4c88c669",
   "metadata": {},
   "outputs": [
    {
     "name": "stdout",
     "output_type": "stream",
     "text": [
      "{'department': 'produce'}\n"
     ]
    }
   ],
   "source": [
    "print(data_dict_dep.get('4'))\n"
   ]
  },
  {
   "cell_type": "markdown",
   "id": "d9302d73",
   "metadata": {},
   "source": [
    "# 6.0 Breakfast item subset"
   ]
  },
  {
   "cell_type": "code",
   "execution_count": 29,
   "id": "779bc728",
   "metadata": {},
   "outputs": [
    {
     "name": "stdout",
     "output_type": "stream",
     "text": [
      "The Department ID for Breakfast is  14\n"
     ]
    }
   ],
   "source": [
    "#Getting the Department_id for Breakfast items\n",
    "\n",
    "department_id_for_breakfast = next(key for key, value in data_dict_dep.items() if value['department'] == 'breakfast')\n",
    "print('The Department ID for Breakfast is ',department_id_for_breakfast)"
   ]
  },
  {
   "cell_type": "code",
   "execution_count": 30,
   "id": "06710158",
   "metadata": {},
   "outputs": [
    {
     "name": "stdout",
     "output_type": "stream",
     "text": [
      "       product_id                                       product_name  \\\n",
      "503           503                                    Wild Rice Blend   \n",
      "1000         1000                                           Apricots   \n",
      "5161         5161                                        Dried Mango   \n",
      "6194         6194                           Organic Red Kidney Beans   \n",
      "6455         6455                               Organic Magic Muesli   \n",
      "7314         7314                          Organic Quick Rolled Oats   \n",
      "10224       10224                       Organic Hunza Golden Raisins   \n",
      "10540       10540                                Whole Medjool Dates   \n",
      "10915       10915                  Organic Short Brown Sprouted Rice   \n",
      "11325       11325                          Organic Hemp Plus Granola   \n",
      "12699       12699                                Super Nutty Granola   \n",
      "14611       14611                                   Turkish Apricots   \n",
      "14665       14665                              Organic White Popcorn   \n",
      "14985       14985                           Organic Raspberry Muesli   \n",
      "19067       19066                                 Organic Wheat Bran   \n",
      "19629       19628                        Organic Blueberries Package   \n",
      "22261       22260                                Organic Rolled Oats   \n",
      "22828       22827                         Organic Black Mission Figs   \n",
      "23039       23038                                 Organic Mung Beans   \n",
      "25860       25859                                    Cranberry Beans   \n",
      "27416       27414                                Organic Emmer Farro   \n",
      "28069       28067                     Organic Honey Lavender Granola   \n",
      "28657       28655                         Crystallized Ginger Chunks   \n",
      "30367       30365                                    Vegetable Chips   \n",
      "32234       32232                  Organic Roasted Buckwheat (Kasha)   \n",
      "38011       38007                     Naturally Sweet Plantain Chips   \n",
      "38617       38613                                Large Ataulfo Mango   \n",
      "39657       39653                           Organic Split Green Peas   \n",
      "40401       40397                       Organic Royal Rainbow Quinoa   \n",
      "42095       42091                                        Pesto Sauce   \n",
      "42138       42134                                   Israeli Couscous   \n",
      "43214       43210                                        Rolled Oats   \n",
      "43582       43578                               Madagascar Pink Rice   \n",
      "43773       43769                             Organic Pearled Barley   \n",
      "45686       45682                           Organic Turkish Apricots   \n",
      "46893       46889                         Organic Brown Basmati Rice   \n",
      "47493       47489                         Organic Brown Jasmine Rice   \n",
      "48782       48778  Fit Super A Juice, Cold Pressed, Carrot/Apple/...   \n",
      "\n",
      "       aisle_id  department_id  prices  \n",
      "503          68             10    10.8  \n",
      "1000         18             10    12.9  \n",
      "5161         18             10     6.1  \n",
      "6194         68             10    14.1  \n",
      "6455         68             10     8.3  \n",
      "7314         68             10    12.3  \n",
      "10224        18             10     5.4  \n",
      "10540        18             10    13.0  \n",
      "10915        68             10     7.7  \n",
      "11325        68             10    12.4  \n",
      "12699        68             10     4.5  \n",
      "14611        18             10     9.3  \n",
      "14665        18             10    10.5  \n",
      "14985        68             10    12.5  \n",
      "19067        68             10    13.4  \n",
      "19629        18             10     2.7  \n",
      "22261        68             10    11.4  \n",
      "22828        18             10     5.1  \n",
      "23039        68             10    11.0  \n",
      "25860        68             10     6.7  \n",
      "27416        68             10    11.7  \n",
      "28069        68             10     5.0  \n",
      "28657        18             10     8.0  \n",
      "30367        18             10     7.2  \n",
      "32234        68             10    13.6  \n",
      "38011        18             10     1.4  \n",
      "38617        68             10     5.6  \n",
      "39657        68             10    13.6  \n",
      "40401        68             10    10.8  \n",
      "42095        68             10     5.7  \n",
      "42138        68             10     5.0  \n",
      "43214        68             10     5.1  \n",
      "43582        68             10     3.8  \n",
      "43773        68             10     5.9  \n",
      "45686        68             10     5.4  \n",
      "46893        68             10     5.3  \n",
      "47493        68             10     5.6  \n",
      "48782        18             10    11.3  \n"
     ]
    }
   ],
   "source": [
    "#Creating Breakfast Item subset from the df_prods\n",
    "df_breakfast = df_prods[df_prods['department_id']==10]\n",
    "print (df_breakfast)"
   ]
  },
  {
   "cell_type": "markdown",
   "id": "b96b9e88",
   "metadata": {},
   "source": [
    "# 7.0 Subset for alocohol, deli, beverages, and meat/seafood"
   ]
  },
  {
   "cell_type": "code",
   "execution_count": 31,
   "id": "0225612f",
   "metadata": {},
   "outputs": [
    {
     "data": {
      "text/plain": [
       "{'1': {'department': 'frozen'},\n",
       " '2': {'department': 'other'},\n",
       " '3': {'department': 'bakery'},\n",
       " '4': {'department': 'produce'},\n",
       " '5': {'department': 'alcohol'},\n",
       " '6': {'department': 'international'},\n",
       " '7': {'department': 'beverages'},\n",
       " '8': {'department': 'pets'},\n",
       " '9': {'department': 'dry goods pasta'},\n",
       " '10': {'department': 'bulk'},\n",
       " '11': {'department': 'personal care'},\n",
       " '12': {'department': 'meat seafood'},\n",
       " '13': {'department': 'pantry'},\n",
       " '14': {'department': 'breakfast'},\n",
       " '15': {'department': 'canned goods'},\n",
       " '16': {'department': 'dairy eggs'},\n",
       " '17': {'department': 'household'},\n",
       " '18': {'department': 'babies'},\n",
       " '19': {'department': 'snacks'},\n",
       " '20': {'department': 'deli'},\n",
       " '21': {'department': 'missing'}}"
      ]
     },
     "execution_count": 31,
     "metadata": {},
     "output_type": "execute_result"
    }
   ],
   "source": [
    "data_dict_dep\n",
    "# department_id(alocohol)= 5\n",
    "# department_id(deli)= 20\n",
    "# department_id(beverages)= 7\n",
    "# department_id(meat/seafood)= 12"
   ]
  },
  {
   "cell_type": "code",
   "execution_count": 32,
   "id": "fb31a013",
   "metadata": {},
   "outputs": [
    {
     "name": "stdout",
     "output_type": "stream",
     "text": [
      "       product_id                                    product_name  aisle_id  \\\n",
      "2               3            Robust Golden Unsweetened Oolong Tea        94   \n",
      "6               7                  Pure Coconut Water With Orange        98   \n",
      "9              10  Sparkling Orange Juice & Prickly Pear Beverage       115   \n",
      "10             11                               Peach Mango Juice        31   \n",
      "16             17                               Rendered Duck Fat        35   \n",
      "...           ...                                             ...       ...   \n",
      "49676       49672                          Cafe Mocha K-Cup Packs        26   \n",
      "49679       49675             Cinnamon Dolce Keurig Brewed K Cups        26   \n",
      "49680       49676                          Ultra Red Energy Drink        64   \n",
      "49686       49682                              California Limeade        98   \n",
      "49688       49684       Vodka, Triple Distilled, Twist of Vanilla       124   \n",
      "\n",
      "       department_id  prices  \n",
      "2                  7     4.5  \n",
      "6                  7     4.4  \n",
      "9                  7     8.4  \n",
      "10                 7     2.8  \n",
      "16                12    17.1  \n",
      "...              ...     ...  \n",
      "49676              7     6.5  \n",
      "49679              7    14.0  \n",
      "49680              7    14.5  \n",
      "49686              7     4.3  \n",
      "49688              5     5.3  \n",
      "\n",
      "[7650 rows x 5 columns]\n"
     ]
    }
   ],
   "source": [
    "#Creating subset for dinner parties\n",
    "df_dinnerparty = df_prods.loc[df_prods['department_id'].isin ([5,20,7,12])]\n",
    "print(df_dinnerparty)"
   ]
  },
  {
   "cell_type": "markdown",
   "id": "e1b93fbb",
   "metadata": {},
   "source": [
    "# 8.0 Counting the number of rows for df_dinnerparty"
   ]
  },
  {
   "cell_type": "code",
   "execution_count": 33,
   "id": "db35152e",
   "metadata": {},
   "outputs": [
    {
     "name": "stdout",
     "output_type": "stream",
     "text": [
      "df_dinnerparty has 7650 rows\n"
     ]
    }
   ],
   "source": [
    "rows_df_dinnerparty=df_dinnerparty.shape[0]\n",
    "print('df_dinnerparty has', rows_df_dinnerparty, 'rows' )"
   ]
  },
  {
   "cell_type": "markdown",
   "id": "38ab4ddc",
   "metadata": {},
   "source": [
    "# 9.0 Extracting information for user id = 1"
   ]
  },
  {
   "cell_type": "code",
   "execution_count": 34,
   "id": "7c3131d3",
   "metadata": {},
   "outputs": [
    {
     "name": "stdout",
     "output_type": "stream",
     "text": [
      "   order_id user_id  order_number  order_day_of_week  order_hour_of_day  \\\n",
      "0   2539329       1             1                  2                  8   \n",
      "1   2398795       1             2                  3                  7   \n",
      "2    473747       1             3                  3                 12   \n",
      "3   2254736       1             4                  4                  7   \n",
      "4    431534       1             5                  4                 15   \n",
      "5   3367565       1             6                  2                  7   \n",
      "6    550135       1             7                  1                  9   \n",
      "7   3108588       1             8                  1                 14   \n",
      "8   2295261       1             9                  1                 16   \n",
      "9   2550362       1            10                  4                  8   \n",
      "10  1187899       1            11                  4                  8   \n",
      "\n",
      "    days_since_prior_order  \n",
      "0                      NaN  \n",
      "1                     15.0  \n",
      "2                     21.0  \n",
      "3                     29.0  \n",
      "4                     28.0  \n",
      "5                     19.0  \n",
      "6                     20.0  \n",
      "7                     14.0  \n",
      "8                      0.0  \n",
      "9                     30.0  \n",
      "10                    14.0  \n"
     ]
    }
   ],
   "source": [
    "#Extracting all the information for User Id from df_ords_2 into df_ords_2_1\n",
    "df_ords_2_1 = df_ords_2[df_ords_2['user_id']=='1']\n",
    "print(df_ords_2_1)"
   ]
  },
  {
   "cell_type": "markdown",
   "id": "d8f2e4d9",
   "metadata": {},
   "source": [
    "# 10.0 Basic Stats for User ID = 1"
   ]
  },
  {
   "cell_type": "code",
   "execution_count": 35,
   "id": "7c9831b1",
   "metadata": {},
   "outputs": [
    {
     "name": "stdout",
     "output_type": "stream",
     "text": [
      "       order_number  order_day_of_week  order_hour_of_day  \\\n",
      "count     11.000000          11.000000          11.000000   \n",
      "mean       6.000000           2.636364          10.090909   \n",
      "std        3.316625           1.286291           3.477198   \n",
      "min        1.000000           1.000000           7.000000   \n",
      "25%        3.500000           1.500000           7.500000   \n",
      "50%        6.000000           3.000000           8.000000   \n",
      "75%        8.500000           4.000000          13.000000   \n",
      "max       11.000000           4.000000          16.000000   \n",
      "\n",
      "       days_since_prior_order  \n",
      "count               10.000000  \n",
      "mean                19.000000  \n",
      "std                  9.030811  \n",
      "min                  0.000000  \n",
      "25%                 14.250000  \n",
      "50%                 19.500000  \n",
      "75%                 26.250000  \n",
      "max                 30.000000  \n"
     ]
    }
   ],
   "source": [
    "print(df_ords_2_1.describe())"
   ]
  },
  {
   "cell_type": "markdown",
   "id": "82f061ad",
   "metadata": {},
   "source": [
    "# 12.0 Exporting df_ord_2 as orders_wrangled"
   ]
  },
  {
   "cell_type": "code",
   "execution_count": 36,
   "id": "66ede500",
   "metadata": {},
   "outputs": [],
   "source": [
    "df_ords_2.to_csv(os.path.join(path, '02 Data', 'Prepared Data', 'orders_wrangled_2.csv'), index = False)"
   ]
  },
  {
   "cell_type": "code",
   "execution_count": 37,
   "id": "f2474fe9",
   "metadata": {},
   "outputs": [],
   "source": [
    "# Keeping index\n",
    "#df_ords_2.to_csv(os.path.join(path, '02 Data', 'Prepared Data', 'orders_wrangled_2.csv'))"
   ]
  },
  {
   "cell_type": "markdown",
   "id": "a1ac1f11",
   "metadata": {},
   "source": [
    "# 13.0 Exporting df_dep_t_new as departments_wrangled.csv"
   ]
  },
  {
   "cell_type": "code",
   "execution_count": 38,
   "id": "8d23b9c5",
   "metadata": {},
   "outputs": [],
   "source": [
    "df_dep_t_new.to_csv(os.path.join(path, '02 Data', 'Prepared Data', 'departments_wrangled.csv'))"
   ]
  }
 ],
 "metadata": {
  "kernelspec": {
   "display_name": "Python 3 (ipykernel)",
   "language": "python",
   "name": "python3"
  },
  "language_info": {
   "codemirror_mode": {
    "name": "ipython",
    "version": 3
   },
   "file_extension": ".py",
   "mimetype": "text/x-python",
   "name": "python",
   "nbconvert_exporter": "python",
   "pygments_lexer": "ipython3",
   "version": "3.11.5"
  }
 },
 "nbformat": 4,
 "nbformat_minor": 5
}
